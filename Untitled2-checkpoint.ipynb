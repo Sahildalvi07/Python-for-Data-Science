{
 "cells": [
  {
   "cell_type": "code",
   "execution_count": 1,
   "id": "b079c897-9c84-4477-bad0-f8980c6e9f23",
   "metadata": {},
   "outputs": [],
   "source": [
    "import numpy as np"
   ]
  },
  {
   "cell_type": "code",
   "execution_count": 2,
   "id": "2cd1c36a-bee3-4ad5-90e4-84836519e332",
   "metadata": {},
   "outputs": [
    {
     "name": "stdout",
     "output_type": "stream",
     "text": [
      "best of luck\n"
     ]
    }
   ],
   "source": [
    "print(\"best of luck\")"
   ]
  },
  {
   "cell_type": "code",
   "execution_count": 3,
   "id": "d9c5c187-886e-4d79-b60f-496cb744351c",
   "metadata": {},
   "outputs": [],
   "source": [
    "arr=np.array([1,2,3,4,5,6,7,8,])"
   ]
  },
  {
   "cell_type": "code",
   "execution_count": 4,
   "id": "38694c9b-fa27-44ae-8a53-373b6410913d",
   "metadata": {},
   "outputs": [
    {
     "data": {
      "text/plain": [
       "array([1, 2, 3, 4, 5, 6, 7, 8])"
      ]
     },
     "execution_count": 4,
     "metadata": {},
     "output_type": "execute_result"
    }
   ],
   "source": [
    "arr"
   ]
  },
  {
   "cell_type": "code",
   "execution_count": 5,
   "id": "cf484255-38d7-49f2-9613-d256ecc4ed0a",
   "metadata": {},
   "outputs": [
    {
     "data": {
      "text/plain": [
       "5"
      ]
     },
     "execution_count": 5,
     "metadata": {},
     "output_type": "execute_result"
    }
   ],
   "source": [
    "arr[4]"
   ]
  },
  {
   "cell_type": "code",
   "execution_count": 7,
   "id": "a3679514-fc54-4c75-9fca-b7951352277b",
   "metadata": {},
   "outputs": [],
   "source": [
    "ls2=[[1,2,3],[4,5,6],[7,8,9]]"
   ]
  },
  {
   "cell_type": "code",
   "execution_count": 8,
   "id": "1ed8357f-a7b9-44d5-8301-353ad5b6d5f2",
   "metadata": {},
   "outputs": [
    {
     "data": {
      "text/plain": [
       "[[1, 2, 3], [4, 5, 6], [7, 8, 9]]"
      ]
     },
     "execution_count": 8,
     "metadata": {},
     "output_type": "execute_result"
    }
   ],
   "source": [
    "ls2"
   ]
  },
  {
   "cell_type": "code",
   "execution_count": 11,
   "id": "900e4253-b780-4b48-a96b-6eab78c84651",
   "metadata": {},
   "outputs": [],
   "source": [
    "arr2= np.array([[1, 2, 3], [4, 5, 6], [7, 8, 9]])"
   ]
  },
  {
   "cell_type": "markdown",
   "id": "24dd3a52-8d66-42bd-beaf-5229fee19ebd",
   "metadata": {},
   "source": [
    "arr2"
   ]
  },
  {
   "cell_type": "code",
   "execution_count": 12,
   "id": "c7d1c5b9-a99c-4d17-b143-615539c5b155",
   "metadata": {},
   "outputs": [],
   "source": [
    "arr3=np.arange(5,67,8)"
   ]
  },
  {
   "cell_type": "code",
   "execution_count": 13,
   "id": "5ec7d9a2-eef2-4e6d-968c-7cab1dcec1d1",
   "metadata": {},
   "outputs": [
    {
     "data": {
      "text/plain": [
       "array([ 5, 13, 21, 29, 37, 45, 53, 61])"
      ]
     },
     "execution_count": 13,
     "metadata": {},
     "output_type": "execute_result"
    }
   ],
   "source": [
    "arr3"
   ]
  },
  {
   "cell_type": "code",
   "execution_count": 14,
   "id": "f17c5af2-3c40-4e30-b9af-0ba4eb9de619",
   "metadata": {},
   "outputs": [
    {
     "data": {
      "text/plain": [
       "array([ 0,  1,  2,  3,  4,  5,  6,  7,  8,  9, 10, 11, 12, 13, 14, 15, 16,\n",
       "       17, 18, 19])"
      ]
     },
     "execution_count": 14,
     "metadata": {},
     "output_type": "execute_result"
    }
   ],
   "source": [
    "np.arange(20)"
   ]
  },
  {
   "cell_type": "code",
   "execution_count": null,
   "id": "3edf1003-74b7-4afd-ac7a-680e1b041bf7",
   "metadata": {},
   "outputs": [],
   "source": []
  }
 ],
 "metadata": {
  "kernelspec": {
   "display_name": "Python 3 (ipykernel)",
   "language": "python",
   "name": "python3"
  },
  "language_info": {
   "codemirror_mode": {
    "name": "ipython",
    "version": 3
   },
   "file_extension": ".py",
   "mimetype": "text/x-python",
   "name": "python",
   "nbconvert_exporter": "python",
   "pygments_lexer": "ipython3",
   "version": "3.12.0"
  }
 },
 "nbformat": 4,
 "nbformat_minor": 5
}
