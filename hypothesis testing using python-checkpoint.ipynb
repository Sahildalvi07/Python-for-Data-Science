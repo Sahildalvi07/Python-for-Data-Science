{
 "cells": [
  {
   "cell_type": "code",
   "execution_count": 2,
   "id": "14cd8fac-9bd1-4246-a694-4e5f910bd99e",
   "metadata": {},
   "outputs": [],
   "source": [
    "import numpy as np\n",
    "import pandas as pd\n",
    "import matplotlib.pyplot as plt\n",
    "import seaborn as sns\n",
    "import scipy as sp\n",
    "from scipy.stats import shapiro,ttest_ind,spearmanr,chi2_contingency\n",
    "from sklearn.datasets import load_wine,make_classification\n",
    "import warnings\n",
    "warnings.filterwarnings(\"ignore\")"
   ]
  },
  {
   "cell_type": "code",
   "execution_count": 3,
   "id": "a2cda434-c446-4f24-a217-12c6301852c3",
   "metadata": {},
   "outputs": [],
   "source": [
    "wine = load_wine()"
   ]
  },
  {
   "cell_type": "raw",
   "id": "a6bd9fb6-ffae-4a00-948a-315186abc7d4",
   "metadata": {},
   "source": [
    "dir(wine)"
   ]
  },
  {
   "cell_type": "code",
   "execution_count": 4,
   "id": "ba5573e7-2b13-4be7-ab81-30e4a41ee71e",
   "metadata": {},
   "outputs": [],
   "source": [
    "wine_df = pd.DataFrame(wine.data,columns=wine.feature_names)\n",
    "wine_df[\"target\"]= wine.target"
   ]
  },
  {
   "cell_type": "code",
   "execution_count": 5,
   "id": "bc021257-8a3d-4460-886d-0c7abccca294",
   "metadata": {},
   "outputs": [],
   "source": [
    "data,target= make_classification(n_samples=400,n_features=5,n_classes=2)"
   ]
  },
  {
   "cell_type": "code",
   "execution_count": 6,
   "id": "5020a8c5-6f2d-4d3a-a7a4-6971b56f49b9",
   "metadata": {},
   "outputs": [],
   "source": [
    "df=pd.DataFrame(data,columns=[f\"feature{i}\" for i in range(1,6)])\n",
    "df[\"target\"] = target"
   ]
  },
  {
   "cell_type": "code",
   "execution_count": 7,
   "id": "ca48a2a6-2615-4f10-ba0f-9a6368a62677",
   "metadata": {},
   "outputs": [],
   "source": [
    "wine= wine_df.copy()"
   ]
  },
  {
   "cell_type": "code",
   "execution_count": 8,
   "id": "521394d9-2f35-4acf-a7e8-7a70dcc9aa64",
   "metadata": {},
   "outputs": [
    {
     "data": {
      "text/html": [
       "<div>\n",
       "<style scoped>\n",
       "    .dataframe tbody tr th:only-of-type {\n",
       "        vertical-align: middle;\n",
       "    }\n",
       "\n",
       "    .dataframe tbody tr th {\n",
       "        vertical-align: top;\n",
       "    }\n",
       "\n",
       "    .dataframe thead th {\n",
       "        text-align: right;\n",
       "    }\n",
       "</style>\n",
       "<table border=\"1\" class=\"dataframe\">\n",
       "  <thead>\n",
       "    <tr style=\"text-align: right;\">\n",
       "      <th></th>\n",
       "      <th>alcohol</th>\n",
       "      <th>malic_acid</th>\n",
       "      <th>ash</th>\n",
       "      <th>alcalinity_of_ash</th>\n",
       "      <th>magnesium</th>\n",
       "      <th>total_phenols</th>\n",
       "      <th>flavanoids</th>\n",
       "      <th>nonflavanoid_phenols</th>\n",
       "      <th>proanthocyanins</th>\n",
       "      <th>color_intensity</th>\n",
       "      <th>hue</th>\n",
       "      <th>od280/od315_of_diluted_wines</th>\n",
       "      <th>proline</th>\n",
       "      <th>target</th>\n",
       "    </tr>\n",
       "  </thead>\n",
       "  <tbody>\n",
       "    <tr>\n",
       "      <th>0</th>\n",
       "      <td>14.23</td>\n",
       "      <td>1.71</td>\n",
       "      <td>2.43</td>\n",
       "      <td>15.6</td>\n",
       "      <td>127.0</td>\n",
       "      <td>2.80</td>\n",
       "      <td>3.06</td>\n",
       "      <td>0.28</td>\n",
       "      <td>2.29</td>\n",
       "      <td>5.64</td>\n",
       "      <td>1.04</td>\n",
       "      <td>3.92</td>\n",
       "      <td>1065.0</td>\n",
       "      <td>0</td>\n",
       "    </tr>\n",
       "    <tr>\n",
       "      <th>1</th>\n",
       "      <td>13.20</td>\n",
       "      <td>1.78</td>\n",
       "      <td>2.14</td>\n",
       "      <td>11.2</td>\n",
       "      <td>100.0</td>\n",
       "      <td>2.65</td>\n",
       "      <td>2.76</td>\n",
       "      <td>0.26</td>\n",
       "      <td>1.28</td>\n",
       "      <td>4.38</td>\n",
       "      <td>1.05</td>\n",
       "      <td>3.40</td>\n",
       "      <td>1050.0</td>\n",
       "      <td>0</td>\n",
       "    </tr>\n",
       "    <tr>\n",
       "      <th>2</th>\n",
       "      <td>13.16</td>\n",
       "      <td>2.36</td>\n",
       "      <td>2.67</td>\n",
       "      <td>18.6</td>\n",
       "      <td>101.0</td>\n",
       "      <td>2.80</td>\n",
       "      <td>3.24</td>\n",
       "      <td>0.30</td>\n",
       "      <td>2.81</td>\n",
       "      <td>5.68</td>\n",
       "      <td>1.03</td>\n",
       "      <td>3.17</td>\n",
       "      <td>1185.0</td>\n",
       "      <td>0</td>\n",
       "    </tr>\n",
       "    <tr>\n",
       "      <th>3</th>\n",
       "      <td>14.37</td>\n",
       "      <td>1.95</td>\n",
       "      <td>2.50</td>\n",
       "      <td>16.8</td>\n",
       "      <td>113.0</td>\n",
       "      <td>3.85</td>\n",
       "      <td>3.49</td>\n",
       "      <td>0.24</td>\n",
       "      <td>2.18</td>\n",
       "      <td>7.80</td>\n",
       "      <td>0.86</td>\n",
       "      <td>3.45</td>\n",
       "      <td>1480.0</td>\n",
       "      <td>0</td>\n",
       "    </tr>\n",
       "    <tr>\n",
       "      <th>4</th>\n",
       "      <td>13.24</td>\n",
       "      <td>2.59</td>\n",
       "      <td>2.87</td>\n",
       "      <td>21.0</td>\n",
       "      <td>118.0</td>\n",
       "      <td>2.80</td>\n",
       "      <td>2.69</td>\n",
       "      <td>0.39</td>\n",
       "      <td>1.82</td>\n",
       "      <td>4.32</td>\n",
       "      <td>1.04</td>\n",
       "      <td>2.93</td>\n",
       "      <td>735.0</td>\n",
       "      <td>0</td>\n",
       "    </tr>\n",
       "  </tbody>\n",
       "</table>\n",
       "</div>"
      ],
      "text/plain": [
       "   alcohol  malic_acid   ash  alcalinity_of_ash  magnesium  total_phenols  \\\n",
       "0    14.23        1.71  2.43               15.6      127.0           2.80   \n",
       "1    13.20        1.78  2.14               11.2      100.0           2.65   \n",
       "2    13.16        2.36  2.67               18.6      101.0           2.80   \n",
       "3    14.37        1.95  2.50               16.8      113.0           3.85   \n",
       "4    13.24        2.59  2.87               21.0      118.0           2.80   \n",
       "\n",
       "   flavanoids  nonflavanoid_phenols  proanthocyanins  color_intensity   hue  \\\n",
       "0        3.06                  0.28             2.29             5.64  1.04   \n",
       "1        2.76                  0.26             1.28             4.38  1.05   \n",
       "2        3.24                  0.30             2.81             5.68  1.03   \n",
       "3        3.49                  0.24             2.18             7.80  0.86   \n",
       "4        2.69                  0.39             1.82             4.32  1.04   \n",
       "\n",
       "   od280/od315_of_diluted_wines  proline  target  \n",
       "0                          3.92   1065.0       0  \n",
       "1                          3.40   1050.0       0  \n",
       "2                          3.17   1185.0       0  \n",
       "3                          3.45   1480.0       0  \n",
       "4                          2.93    735.0       0  "
      ]
     },
     "execution_count": 8,
     "metadata": {},
     "output_type": "execute_result"
    }
   ],
   "source": [
    "wine.head()"
   ]
  },
  {
   "cell_type": "code",
   "execution_count": 9,
   "id": "7d0bb34f-5eea-4e62-93c2-86bccd6d42f6",
   "metadata": {},
   "outputs": [
    {
     "data": {
      "text/html": [
       "<div>\n",
       "<style scoped>\n",
       "    .dataframe tbody tr th:only-of-type {\n",
       "        vertical-align: middle;\n",
       "    }\n",
       "\n",
       "    .dataframe tbody tr th {\n",
       "        vertical-align: top;\n",
       "    }\n",
       "\n",
       "    .dataframe thead th {\n",
       "        text-align: right;\n",
       "    }\n",
       "</style>\n",
       "<table border=\"1\" class=\"dataframe\">\n",
       "  <thead>\n",
       "    <tr style=\"text-align: right;\">\n",
       "      <th></th>\n",
       "      <th>feature1</th>\n",
       "      <th>feature2</th>\n",
       "      <th>feature3</th>\n",
       "      <th>feature4</th>\n",
       "      <th>feature5</th>\n",
       "      <th>target</th>\n",
       "    </tr>\n",
       "  </thead>\n",
       "  <tbody>\n",
       "    <tr>\n",
       "      <th>0</th>\n",
       "      <td>0.612177</td>\n",
       "      <td>0.846982</td>\n",
       "      <td>0.997480</td>\n",
       "      <td>-0.490863</td>\n",
       "      <td>-0.762104</td>\n",
       "      <td>1</td>\n",
       "    </tr>\n",
       "    <tr>\n",
       "      <th>1</th>\n",
       "      <td>0.809012</td>\n",
       "      <td>0.876398</td>\n",
       "      <td>1.081871</td>\n",
       "      <td>-0.494197</td>\n",
       "      <td>-0.796663</td>\n",
       "      <td>1</td>\n",
       "    </tr>\n",
       "    <tr>\n",
       "      <th>2</th>\n",
       "      <td>-0.557728</td>\n",
       "      <td>-0.731748</td>\n",
       "      <td>0.715054</td>\n",
       "      <td>0.421828</td>\n",
       "      <td>0.659747</td>\n",
       "      <td>0</td>\n",
       "    </tr>\n",
       "    <tr>\n",
       "      <th>3</th>\n",
       "      <td>1.224011</td>\n",
       "      <td>-0.979402</td>\n",
       "      <td>-1.483345</td>\n",
       "      <td>0.718508</td>\n",
       "      <td>0.792234</td>\n",
       "      <td>0</td>\n",
       "    </tr>\n",
       "    <tr>\n",
       "      <th>4</th>\n",
       "      <td>-1.491881</td>\n",
       "      <td>-1.690103</td>\n",
       "      <td>-1.300445</td>\n",
       "      <td>0.958374</td>\n",
       "      <td>1.533190</td>\n",
       "      <td>0</td>\n",
       "    </tr>\n",
       "  </tbody>\n",
       "</table>\n",
       "</div>"
      ],
      "text/plain": [
       "   feature1  feature2  feature3  feature4  feature5  target\n",
       "0  0.612177  0.846982  0.997480 -0.490863 -0.762104       1\n",
       "1  0.809012  0.876398  1.081871 -0.494197 -0.796663       1\n",
       "2 -0.557728 -0.731748  0.715054  0.421828  0.659747       0\n",
       "3  1.224011 -0.979402 -1.483345  0.718508  0.792234       0\n",
       "4 -1.491881 -1.690103 -1.300445  0.958374  1.533190       0"
      ]
     },
     "execution_count": 9,
     "metadata": {},
     "output_type": "execute_result"
    }
   ],
   "source": [
    "df.head()"
   ]
  },
  {
   "cell_type": "code",
   "execution_count": 10,
   "id": "ea12ac90-cad0-447f-9b6e-89784d1f64ea",
   "metadata": {},
   "outputs": [
    {
     "data": {
      "image/png": "[encoded data removed]",
      "text/plain": [
       "<Figure size 640x480 with 1 Axes>"
      ]
     },
     "metadata": {},
     "output_type": "display_data"
    }
   ],
   "source": [
    "sns.histplot(wine[\"alcohol\"],kde=True,alpha=0.7)\n",
    "plt.title(\"Alcohol Column Distribution\")\n",
    "plt.show()\n"
   ]
  },
  {
   "cell_type": "code",
   "execution_count": 11,
   "id": "72430a39-7f2f-406d-8390-c6b537bedd82",
   "metadata": {},
   "outputs": [
    {
     "name": "stdout",
     "output_type": "stream",
     "text": [
      "Shapiro Statistical Value : 0.981804609298706\n",
      "Shapiro p_value: 0.020050711929798126\n",
      "data is not normally distributed (Rejecting H0)\n"
     ]
    }
   ],
   "source": [
    "# H0 -> data is normally distributed\n",
    "# Ha-> data is not normally distributed\n",
    "\n",
    "#checking whether to accept the null hypotehsis or reject it.\n",
    "\n",
    "sh_stat,sh_p = shapiro(wine[\"alcohol\"])\n",
    "print(\"Shapiro Statistical Value :\",sh_stat)\n",
    "print(\"Shapiro p_value:\",sh_p)\n",
    "\n",
    "alpha = 0.05\n",
    "if sh_p > alpha:\n",
    "    print(\"data id noramally (Acepting H0)\")\n",
    "else:\n",
    "    print(\"data is not normally distributed (Rejecting H0)\")"
   ]
  },
  {
   "cell_type": "code",
   "execution_count": 12,
   "id": "32657d91-055e-4e30-987d-baf11b1c50c9",
   "metadata": {},
   "outputs": [
    {
     "data": {
      "image/png": "[encoded data removed]",
      "text/plain": [
       "<Figure size 640x480 with 1 Axes>"
      ]
     },
     "metadata": {},
     "output_type": "display_data"
    }
   ],
   "source": [
    "sample= np.random.normal(size=400)\n",
    "sns.histplot(df[\"feature1\"],kde=True,alpha=0.7)\n",
    "plt.title(\"feature1 Column Distribution\")\n",
    "plt.show()"
   ]
  },
  {
   "cell_type": "code",
   "execution_count": 13,
   "id": "e276970e-b2bd-4cff-a2ec-a1429509c362",
   "metadata": {},
   "outputs": [
    {
     "name": "stdout",
     "output_type": "stream",
     "text": [
      "Shapiro Statistical Value : 0.9955666065216064\n",
      "Shapiro p_value: 0.3177090883255005\n",
      "data id noramally (Acepting H0)\n"
     ]
    }
   ],
   "source": [
    "# H0 -> data is normally distributed\n",
    "# Ha-> data is not normally distributed\n",
    "\n",
    "#checking whether to accept the null hypotehsis or reject it.\n",
    "\n",
    "sh_stat,sh_p = shapiro(sample)\n",
    "\n",
    "print(\"Shapiro Statistical Value :\",sh_stat)\n",
    "print(\"Shapiro p_value:\",sh_p)\n",
    "\n",
    "alpha = 0.05\n",
    "if sh_p > alpha:\n",
    "    print(\"data id noramally (Acepting H0)\")\n",
    "else:\n",
    "    print(\"data is not normally distributed (Rejecting H0)\")"
   ]
  },
  {
   "cell_type": "code",
   "execution_count": 14,
   "id": "a4d10e77-d87c-43bc-b390-e0df231c0296",
   "metadata": {},
   "outputs": [
    {
     "data": {
      "text/plain": [
       "Index(['alcohol', 'malic_acid', 'ash', 'alcalinity_of_ash', 'magnesium',\n",
       "       'total_phenols', 'flavanoids', 'nonflavanoid_phenols',\n",
       "       'proanthocyanins', 'color_intensity', 'hue',\n",
       "       'od280/od315_of_diluted_wines', 'proline', 'target'],\n",
       "      dtype='object')"
      ]
     },
     "execution_count": 14,
     "metadata": {},
     "output_type": "execute_result"
    }
   ],
   "source": [
    "wine.columns"
   ]
  },
  {
   "cell_type": "code",
   "execution_count": 15,
   "id": "58721f43-4d05-47d2-be10-54d588cdfb55",
   "metadata": {},
   "outputs": [
    {
     "data": {
      "image/png": "[encoded data removed]",
      "text/plain": [
       "<Figure size 640x480 with 1 Axes>"
      ]
     },
     "metadata": {},
     "output_type": "display_data"
    }
   ],
   "source": [
    "\n",
    "plt.title(\"feature1 Column Distribution\")\n",
    "sns.scatterplot(x=wine[\"total_phenols\"],y=wine[\"malic_acid\"])\n",
    "plt.show()"
   ]
  },
  {
   "cell_type": "code",
   "execution_count": 16,
   "id": "6a2230c5-c72b-4b2c-9845-58aed358acba",
   "metadata": {},
   "outputs": [
    {
     "name": "stdout",
     "output_type": "stream",
     "text": [
      "Spearman satistical value : -0.28022\n",
      "Spearman p_value :0.00015\n",
      "Total_phonol and malic_acid are not independent  (Rejecting H0)\n"
     ]
    }
   ],
   "source": [
    "#H0--> data is not normally distributed\n",
    "#Ha --> data is normally distributed\n",
    "\n",
    "#checking weather to accept or reject th enull hypothesis.\n",
    "#spearmenr\n",
    "sp_stats,sp_p=spearmanr(wine[\"total_phenols\"],wine[\"malic_acid\"])\n",
    "\n",
    "print(\"Spearman satistical value : %.5f\"%sp_stats)\n",
    "print(\"Spearman p_value :%.5f\"%sp_p)\n",
    "\n",
    "alpha = 0.05\n",
    "if sp_p > alpha:\n",
    "     print(\"Total_phonol and malic_acid are independent (Acepting H0)\")\n",
    "else:\n",
    "    print(\"Total_phonol and malic_acid are not independent  (Rejecting H0)\")\n",
    "    "
   ]
  },
  {
   "cell_type": "code",
   "execution_count": 17,
   "id": "4a39cfbf-46bf-406c-aea4-d9fdd5e04b64",
   "metadata": {},
   "outputs": [
    {
     "data": {
      "text/html": [
       "<div>\n",
       "<style scoped>\n",
       "    .dataframe tbody tr th:only-of-type {\n",
       "        vertical-align: middle;\n",
       "    }\n",
       "\n",
       "    .dataframe tbody tr th {\n",
       "        vertical-align: top;\n",
       "    }\n",
       "\n",
       "    .dataframe thead th {\n",
       "        text-align: right;\n",
       "    }\n",
       "</style>\n",
       "<table border=\"1\" class=\"dataframe\">\n",
       "  <thead>\n",
       "    <tr style=\"text-align: right;\">\n",
       "      <th></th>\n",
       "      <th>feature1</th>\n",
       "      <th>feature2</th>\n",
       "      <th>feature3</th>\n",
       "      <th>feature4</th>\n",
       "      <th>feature5</th>\n",
       "      <th>target</th>\n",
       "    </tr>\n",
       "  </thead>\n",
       "  <tbody>\n",
       "    <tr>\n",
       "      <th>0</th>\n",
       "      <td>0.612177</td>\n",
       "      <td>0.846982</td>\n",
       "      <td>0.997480</td>\n",
       "      <td>-0.490863</td>\n",
       "      <td>-0.762104</td>\n",
       "      <td>1</td>\n",
       "    </tr>\n",
       "    <tr>\n",
       "      <th>1</th>\n",
       "      <td>0.809012</td>\n",
       "      <td>0.876398</td>\n",
       "      <td>1.081871</td>\n",
       "      <td>-0.494197</td>\n",
       "      <td>-0.796663</td>\n",
       "      <td>1</td>\n",
       "    </tr>\n",
       "    <tr>\n",
       "      <th>2</th>\n",
       "      <td>-0.557728</td>\n",
       "      <td>-0.731748</td>\n",
       "      <td>0.715054</td>\n",
       "      <td>0.421828</td>\n",
       "      <td>0.659747</td>\n",
       "      <td>0</td>\n",
       "    </tr>\n",
       "    <tr>\n",
       "      <th>3</th>\n",
       "      <td>1.224011</td>\n",
       "      <td>-0.979402</td>\n",
       "      <td>-1.483345</td>\n",
       "      <td>0.718508</td>\n",
       "      <td>0.792234</td>\n",
       "      <td>0</td>\n",
       "    </tr>\n",
       "    <tr>\n",
       "      <th>4</th>\n",
       "      <td>-1.491881</td>\n",
       "      <td>-1.690103</td>\n",
       "      <td>-1.300445</td>\n",
       "      <td>0.958374</td>\n",
       "      <td>1.533190</td>\n",
       "      <td>0</td>\n",
       "    </tr>\n",
       "  </tbody>\n",
       "</table>\n",
       "</div>"
      ],
      "text/plain": [
       "   feature1  feature2  feature3  feature4  feature5  target\n",
       "0  0.612177  0.846982  0.997480 -0.490863 -0.762104       1\n",
       "1  0.809012  0.876398  1.081871 -0.494197 -0.796663       1\n",
       "2 -0.557728 -0.731748  0.715054  0.421828  0.659747       0\n",
       "3  1.224011 -0.979402 -1.483345  0.718508  0.792234       0\n",
       "4 -1.491881 -1.690103 -1.300445  0.958374  1.533190       0"
      ]
     },
     "execution_count": 17,
     "metadata": {},
     "output_type": "execute_result"
    }
   ],
   "source": [
    "df.head()"
   ]
  },
  {
   "cell_type": "code",
   "execution_count": 18,
   "id": "615f52b5-9e68-4c3c-b453-34d1bf35f917",
   "metadata": {},
   "outputs": [
    {
     "data": {
      "image/png": "[encoded data removed]",
      "text/plain": [
       "<Figure size 640x480 with 1 Axes>"
      ]
     },
     "metadata": {},
     "output_type": "display_data"
    }
   ],
   "source": [
    "plt.title(\"feature1 vs feature2\")\n",
    "sns.scatterplot(x=df[\"feature1\"],y=df[\"feature2\"])\n",
    "plt.show()"
   ]
  },
  {
   "cell_type": "code",
   "execution_count": 19,
   "id": "ccd4ab5b-071d-4e71-aedc-8f3f754eef29",
   "metadata": {},
   "outputs": [
    {
     "name": "stdout",
     "output_type": "stream",
     "text": [
      "Spearman satistical value : -0.03137\n",
      "Spearman p_value :0.53155\n",
      "feature1 and feature2 are dependent (Acepting H0)\n"
     ]
    }
   ],
   "source": [
    "#H0--> feature1 and feature2 are dependent\n",
    "#Ha --> feature1 and feature2 are independent\n",
    "\n",
    "#checking weather to accept or reject th enull hypothesis.\n",
    "#spearmenr\n",
    "sp_stats,sp_p=spearmanr(df[\"feature1\"],df[\"feature2\"])\n",
    "#-1---0---+1\n",
    "\n",
    "print(\"Spearman satistical value : %.5f\"%sp_stats)\n",
    "print(\"Spearman p_value :%.5f\"%sp_p)\n",
    "\n",
    "alpha = 0.05\n",
    "if sp_p > alpha:\n",
    "     print(\"feature1 and feature2 are dependent (Acepting H0)\")\n",
    "else:\n",
    "    print(\"feature1 and feature2 are independent  (Rejecting H0)\")\n",
    "    "
   ]
  },
  {
   "cell_type": "code",
   "execution_count": 20,
   "id": "01086184-3df3-45d3-8225-c8c1df7a2388",
   "metadata": {},
   "outputs": [
    {
     "data": {
      "text/plain": [
       "0      2\n",
       "1      1\n",
       "2      3\n",
       "3      2\n",
       "4      1\n",
       "      ..\n",
       "173    0\n",
       "174    1\n",
       "175    1\n",
       "176    1\n",
       "177    1\n",
       "Name: proanthocyanins, Length: 178, dtype: category\n",
       "Categories (4, int64): [0 < 1 < 2 < 3]"
      ]
     },
     "execution_count": 20,
     "metadata": {},
     "output_type": "execute_result"
    }
   ],
   "source": [
    "cat =pd.cut(wine[\"proanthocyanins\"], bins=4, labels=[0,1,2,3])\n",
    "cat"
   ]
  },
  {
   "cell_type": "code",
   "execution_count": 21,
   "id": "169c775c-f614-4f8c-8407-1451a8612390",
   "metadata": {},
   "outputs": [],
   "source": [
    "#sequestial---->Descrete\n",
    "#Numerical ----> CAtegorical\n",
    "\n",
    "wine[\"proanthocyanins\"]=cat\n",
    "#wine.head()"
   ]
  },
  {
   "cell_type": "code",
   "execution_count": 22,
   "id": "a4aaf0ac-dd91-4d5a-ad88-e11450825e1d",
   "metadata": {},
   "outputs": [
    {
     "data": {
      "image/png": "[encoded data removed]",
      "text/plain": [
       "<Figure size 640x480 with 1 Axes>"
      ]
     },
     "metadata": {},
     "output_type": "display_data"
    }
   ],
   "source": [
    "plt.title(\"proanthocyanins vs color intensity\")\n",
    "sns.scatterplot(x=wine[\"proanthocyanins\"],y=wine[\"color_intensity\"])\n",
    "plt.show()"
   ]
  },
  {
   "cell_type": "code",
   "execution_count": 26,
   "id": "5efa0dcd-6da8-4be9-b5f4-7e58d5d87c4a",
   "metadata": {},
   "outputs": [
    {
     "name": "stdout",
     "output_type": "stream",
     "text": [
      "T Statistical value :-22.17444\n",
      "p value for t_test :0.00000\n",
      "proanthocyanins and color intensity are dependent (Rejecting H0)\n"
     ]
    }
   ],
   "source": [
    "#H0 --->proanthocyanins and color intensity are independent\n",
    "#Ha--->proanthocyanins and color intensity are dependent\n",
    "\n",
    "#checking weather to accept or reject the null hypothesis\n",
    "t_stats,t_p=ttest_ind(wine[\"proanthocyanins\"], wine[\"color_intensity\"])\n",
    "\n",
    "print(\"T Statistical value :%.5f\"%t_stats)\n",
    "print(\"p value for t_test :%.5f\"%t_p)\n",
    "\n",
    "alpha = 0.5\n",
    "if t_p > alpha:\n",
    "     print(\"proanthocyanins and color intensity are independece (accepting H0)\")\n",
    "else:\n",
    "    print(\"proanthocyanins and color intensity are dependent (Rejecting H0)\")"
   ]
  },
  {
   "cell_type": "code",
   "execution_count": 35,
   "id": "1c2c9d87-95e2-46fb-8e03-56668db19b71",
   "metadata": {},
   "outputs": [
    {
     "data": {
      "text/plain": [
       "(25, 25)"
      ]
     },
     "execution_count": 35,
     "metadata": {},
     "output_type": "execute_result"
    }
   ],
   "source": [
    "sample1 = wine[\"ash\"].iloc[:25]\n",
    "sample2 = wine[\"ash\"].iloc[-25:]\n",
    "\n",
    "len(sample1), len(sample2)"
   ]
  },
  {
   "cell_type": "code",
   "execution_count": 36,
   "id": "e626cdff-9f35-434a-8cc7-365c7309a257",
   "metadata": {},
   "outputs": [
    {
     "name": "stdout",
     "output_type": "stream",
     "text": [
      "T Statistical value :0.42966\n",
      "p value for t_test :0.66937\n",
      "sample1 and sample2 are equal (accepting H0)\n"
     ]
    }
   ],
   "source": [
    "#H0 --->sample1 and sample2 are equal\n",
    "#Ha--->sample1 and sample 2 are not equal\n",
    "\n",
    "#checking weather to accept or reject the null hypothesis\n",
    "t_stats,t_p=ttest_ind(sample1, sample2)\n",
    "\n",
    "print(\"T Statistical value :%.5f\"%t_stats)\n",
    "print(\"p value for t_test :%.5f\"%t_p)\n",
    "\n",
    "alpha = 0.5\n",
    "if t_p > alpha:\n",
    "     print(\"sample1 and sample2 are equal (accepting H0)\")\n",
    "else:\n",
    "    print(\"sample1 and sample 2 are not equal (Rejecting H0)\")"
   ]
  },
  {
   "cell_type": "code",
   "execution_count": 37,
   "id": "deb5fcb5-f40d-4dd9-adc4-b3f1a9448880",
   "metadata": {},
   "outputs": [
    {
     "data": {
      "text/plain": [
       "2.4744"
      ]
     },
     "execution_count": 37,
     "metadata": {},
     "output_type": "execute_result"
    }
   ],
   "source": [
    "sample1.mean()"
   ]
  },
  {
   "cell_type": "code",
   "execution_count": 38,
   "id": "ebe8f385-da2f-4f7c-8222-9bcfafd42457",
   "metadata": {},
   "outputs": [
    {
     "data": {
      "text/plain": [
       "2.452"
      ]
     },
     "execution_count": 38,
     "metadata": {},
     "output_type": "execute_result"
    }
   ],
   "source": [
    "sample2.mean()"
   ]
  },
  {
   "cell_type": "code",
   "execution_count": 28,
   "id": "a2f973ee-2125-40f0-a0b1-fc34bf29368d",
   "metadata": {},
   "outputs": [
    {
     "data": {
      "text/html": [
       "<div>\n",
       "<style scoped>\n",
       "    .dataframe tbody tr th:only-of-type {\n",
       "        vertical-align: middle;\n",
       "    }\n",
       "\n",
       "    .dataframe tbody tr th {\n",
       "        vertical-align: top;\n",
       "    }\n",
       "\n",
       "    .dataframe thead th {\n",
       "        text-align: right;\n",
       "    }\n",
       "</style>\n",
       "<table border=\"1\" class=\"dataframe\">\n",
       "  <thead>\n",
       "    <tr style=\"text-align: right;\">\n",
       "      <th></th>\n",
       "      <th>alcohol</th>\n",
       "      <th>malic_acid</th>\n",
       "      <th>ash</th>\n",
       "      <th>alcalinity_of_ash</th>\n",
       "      <th>magnesium</th>\n",
       "      <th>total_phenols</th>\n",
       "      <th>flavanoids</th>\n",
       "      <th>nonflavanoid_phenols</th>\n",
       "      <th>proanthocyanins</th>\n",
       "      <th>color_intensity</th>\n",
       "      <th>hue</th>\n",
       "      <th>od280/od315_of_diluted_wines</th>\n",
       "      <th>proline</th>\n",
       "      <th>target</th>\n",
       "    </tr>\n",
       "  </thead>\n",
       "  <tbody>\n",
       "    <tr>\n",
       "      <th>0</th>\n",
       "      <td>14.23</td>\n",
       "      <td>1.71</td>\n",
       "      <td>2.43</td>\n",
       "      <td>15.6</td>\n",
       "      <td>127.0</td>\n",
       "      <td>2.80</td>\n",
       "      <td>3.06</td>\n",
       "      <td>0.28</td>\n",
       "      <td>2</td>\n",
       "      <td>5.64</td>\n",
       "      <td>1.04</td>\n",
       "      <td>3.92</td>\n",
       "      <td>1065.0</td>\n",
       "      <td>0</td>\n",
       "    </tr>\n",
       "    <tr>\n",
       "      <th>1</th>\n",
       "      <td>13.20</td>\n",
       "      <td>1.78</td>\n",
       "      <td>2.14</td>\n",
       "      <td>11.2</td>\n",
       "      <td>100.0</td>\n",
       "      <td>2.65</td>\n",
       "      <td>2.76</td>\n",
       "      <td>0.26</td>\n",
       "      <td>1</td>\n",
       "      <td>4.38</td>\n",
       "      <td>1.05</td>\n",
       "      <td>3.40</td>\n",
       "      <td>1050.0</td>\n",
       "      <td>0</td>\n",
       "    </tr>\n",
       "    <tr>\n",
       "      <th>2</th>\n",
       "      <td>13.16</td>\n",
       "      <td>2.36</td>\n",
       "      <td>2.67</td>\n",
       "      <td>18.6</td>\n",
       "      <td>101.0</td>\n",
       "      <td>2.80</td>\n",
       "      <td>3.24</td>\n",
       "      <td>0.30</td>\n",
       "      <td>3</td>\n",
       "      <td>5.68</td>\n",
       "      <td>1.03</td>\n",
       "      <td>3.17</td>\n",
       "      <td>1185.0</td>\n",
       "      <td>0</td>\n",
       "    </tr>\n",
       "    <tr>\n",
       "      <th>3</th>\n",
       "      <td>14.37</td>\n",
       "      <td>1.95</td>\n",
       "      <td>2.50</td>\n",
       "      <td>16.8</td>\n",
       "      <td>113.0</td>\n",
       "      <td>3.85</td>\n",
       "      <td>3.49</td>\n",
       "      <td>0.24</td>\n",
       "      <td>2</td>\n",
       "      <td>7.80</td>\n",
       "      <td>0.86</td>\n",
       "      <td>3.45</td>\n",
       "      <td>1480.0</td>\n",
       "      <td>0</td>\n",
       "    </tr>\n",
       "    <tr>\n",
       "      <th>4</th>\n",
       "      <td>13.24</td>\n",
       "      <td>2.59</td>\n",
       "      <td>2.87</td>\n",
       "      <td>21.0</td>\n",
       "      <td>118.0</td>\n",
       "      <td>2.80</td>\n",
       "      <td>2.69</td>\n",
       "      <td>0.39</td>\n",
       "      <td>1</td>\n",
       "      <td>4.32</td>\n",
       "      <td>1.04</td>\n",
       "      <td>2.93</td>\n",
       "      <td>735.0</td>\n",
       "      <td>0</td>\n",
       "    </tr>\n",
       "  </tbody>\n",
       "</table>\n",
       "</div>"
      ],
      "text/plain": [
       "   alcohol  malic_acid   ash  alcalinity_of_ash  magnesium  total_phenols  \\\n",
       "0    14.23        1.71  2.43               15.6      127.0           2.80   \n",
       "1    13.20        1.78  2.14               11.2      100.0           2.65   \n",
       "2    13.16        2.36  2.67               18.6      101.0           2.80   \n",
       "3    14.37        1.95  2.50               16.8      113.0           3.85   \n",
       "4    13.24        2.59  2.87               21.0      118.0           2.80   \n",
       "\n",
       "   flavanoids  nonflavanoid_phenols proanthocyanins  color_intensity   hue  \\\n",
       "0        3.06                  0.28               2             5.64  1.04   \n",
       "1        2.76                  0.26               1             4.38  1.05   \n",
       "2        3.24                  0.30               3             5.68  1.03   \n",
       "3        3.49                  0.24               2             7.80  0.86   \n",
       "4        2.69                  0.39               1             4.32  1.04   \n",
       "\n",
       "   od280/od315_of_diluted_wines  proline  target  \n",
       "0                          3.92   1065.0       0  \n",
       "1                          3.40   1050.0       0  \n",
       "2                          3.17   1185.0       0  \n",
       "3                          3.45   1480.0       0  \n",
       "4                          2.93    735.0       0  "
      ]
     },
     "execution_count": 28,
     "metadata": {},
     "output_type": "execute_result"
    }
   ],
   "source": [
    "wine.head()"
   ]
  },
  {
   "cell_type": "code",
   "execution_count": 29,
   "id": "45c3f573-dc99-46dc-be54-7074a2b6c6f6",
   "metadata": {},
   "outputs": [
    {
     "data": {
      "text/plain": [
       "<function matplotlib.pyplot.show(close=None, block=None)>"
      ]
     },
     "execution_count": 29,
     "metadata": {},
     "output_type": "execute_result"
    },
    {
     "data": {
      "image/png": "[encoded data removed]",
      "text/plain": [
       "<Figure size 640x480 with 1 Axes>"
      ]
     },
     "metadata": {},
     "output_type": "display_data"
    }
   ],
   "source": [
    "sns.histplot(x=wine[\"proline\"],bins=20,alpha=0.6,legend=False,kde=True)\n",
    "plt.show"
   ]
  },
  {
   "cell_type": "code",
   "execution_count": 30,
   "id": "eaf2aa75-c905-4471-826b-2c27f8fe3ed4",
   "metadata": {},
   "outputs": [
    {
     "data": {
      "text/plain": [
       "746.8932584269663"
      ]
     },
     "execution_count": 30,
     "metadata": {},
     "output_type": "execute_result"
    }
   ],
   "source": [
    "wine[\"proline\"].mean()"
   ]
  },
  {
   "cell_type": "code",
   "execution_count": 39,
   "id": "19c62a19-ac17-4020-ac12-fb533d7cd849",
   "metadata": {},
   "outputs": [],
   "source": [
    "sample1 =np.random.choice(wine[\"proline\"],size=34)\n",
    "sample2 =np.random.choice(wine[\"proline\"],size=34)"
   ]
  },
  {
   "cell_type": "code",
   "execution_count": 42,
   "id": "e2a2a403-ac57-4756-a04b-809bb72919d6",
   "metadata": {},
   "outputs": [
    {
     "name": "stdout",
     "output_type": "stream",
     "text": [
      "t-test statistical value : 1.15644\n",
      "t-test p value : 0.25167\n",
      "Sample1 and Sample2 are not equal(Accepting H0)\n"
     ]
    }
   ],
   "source": [
    "# H0---> sample1 and sample2 are not equal\n",
    "# Ha ---> sample1 and sample2 are equal\n",
    "\n",
    "t_stats,t_p= ttest_ind(sample1,sample2)\n",
    "\n",
    "print(\"t-test statistical value : %.5f\"%t_stats)\n",
    "print(\"t-test p value : %.5f\"%t_p)\n",
    "\n",
    "alpha=0.05\n",
    "if t_p > alpha:\n",
    "    print(\"Sample1 and Sample2 are not equal(Accepting H0)\")\n",
    "else:\n",
    "    print(\"Sample1 and Sample2 are equal(Rejecting H1)\")"
   ]
  },
  {
   "cell_type": "code",
   "execution_count": 43,
   "id": "d256830e-1ea6-4d15-8c19-4859d97cd57e",
   "metadata": {},
   "outputs": [],
   "source": [
    "data = {\n",
    "    \"Gender\":np.random.choice([\"Male\",\"female\"],80),\n",
    "    \"Subject\":np.random.choice([\"Med\",\"Eng\"],80)\n",
    "}"
   ]
  },
  {
   "cell_type": "code",
   "execution_count": 44,
   "id": "24512f0c-b57c-4047-a2f3-834dff058af4",
   "metadata": {},
   "outputs": [
    {
     "data": {
      "text/html": [
       "<div>\n",
       "<style scoped>\n",
       "    .dataframe tbody tr th:only-of-type {\n",
       "        vertical-align: middle;\n",
       "    }\n",
       "\n",
       "    .dataframe tbody tr th {\n",
       "        vertical-align: top;\n",
       "    }\n",
       "\n",
       "    .dataframe thead th {\n",
       "        text-align: right;\n",
       "    }\n",
       "</style>\n",
       "<table border=\"1\" class=\"dataframe\">\n",
       "  <thead>\n",
       "    <tr style=\"text-align: right;\">\n",
       "      <th></th>\n",
       "      <th>Gender</th>\n",
       "      <th>Subject</th>\n",
       "    </tr>\n",
       "  </thead>\n",
       "  <tbody>\n",
       "    <tr>\n",
       "      <th>0</th>\n",
       "      <td>Male</td>\n",
       "      <td>Med</td>\n",
       "    </tr>\n",
       "    <tr>\n",
       "      <th>1</th>\n",
       "      <td>female</td>\n",
       "      <td>Eng</td>\n",
       "    </tr>\n",
       "    <tr>\n",
       "      <th>2</th>\n",
       "      <td>Male</td>\n",
       "      <td>Med</td>\n",
       "    </tr>\n",
       "    <tr>\n",
       "      <th>3</th>\n",
       "      <td>female</td>\n",
       "      <td>Med</td>\n",
       "    </tr>\n",
       "    <tr>\n",
       "      <th>4</th>\n",
       "      <td>Male</td>\n",
       "      <td>Med</td>\n",
       "    </tr>\n",
       "    <tr>\n",
       "      <th>5</th>\n",
       "      <td>female</td>\n",
       "      <td>Med</td>\n",
       "    </tr>\n",
       "    <tr>\n",
       "      <th>6</th>\n",
       "      <td>female</td>\n",
       "      <td>Eng</td>\n",
       "    </tr>\n",
       "    <tr>\n",
       "      <th>7</th>\n",
       "      <td>female</td>\n",
       "      <td>Eng</td>\n",
       "    </tr>\n",
       "    <tr>\n",
       "      <th>8</th>\n",
       "      <td>female</td>\n",
       "      <td>Eng</td>\n",
       "    </tr>\n",
       "    <tr>\n",
       "      <th>9</th>\n",
       "      <td>Male</td>\n",
       "      <td>Eng</td>\n",
       "    </tr>\n",
       "  </tbody>\n",
       "</table>\n",
       "</div>"
      ],
      "text/plain": [
       "   Gender Subject\n",
       "0    Male     Med\n",
       "1  female     Eng\n",
       "2    Male     Med\n",
       "3  female     Med\n",
       "4    Male     Med\n",
       "5  female     Med\n",
       "6  female     Eng\n",
       "7  female     Eng\n",
       "8  female     Eng\n",
       "9    Male     Eng"
      ]
     },
     "execution_count": 44,
     "metadata": {},
     "output_type": "execute_result"
    }
   ],
   "source": [
    "course= pd.DataFrame(data)\n",
    "course.head(10)"
   ]
  },
  {
   "cell_type": "code",
   "execution_count": 47,
   "id": "ec128bfc-4c36-454d-8704-f1d40068fa7c",
   "metadata": {},
   "outputs": [],
   "source": [
    "crstb=pd.crosstab(course[\"Gender\"],course[\"Subject\"])"
   ]
  },
  {
   "cell_type": "code",
   "execution_count": 46,
   "id": "cfca803b-785b-4174-88ea-ba8b1ba9a8cf",
   "metadata": {},
   "outputs": [
    {
     "name": "stdout",
     "output_type": "stream",
     "text": [
      "chi2 statistcal value :0.23301\n",
      "chi2 p value : 0.62930\n",
      "more males doing medical and females doing engineering-H0\n"
     ]
    }
   ],
   "source": [
    "# H0---> more males doing medical and females doing engineering\n",
    "# Ha---> It is not true\n",
    "\n",
    "chi_stat,chi_p,_,_= chi2_contingency(crstb)\n",
    "\n",
    "print(\"chi2 statistcal value :%.5f\"%chi_stat)\n",
    "print(\"chi2 p value : %.5f\"%chi_p)\n",
    "\n",
    "alpha=0.05\n",
    "if chi_p>alpha:\n",
    "    print(\"more males doing medical and females doing engineering-H0\")\n",
    "else:\n",
    "    print(\"It is not true - Ha\")"
   ]
  },
  {
   "cell_type": "code",
   "execution_count": null,
   "id": "7df83d36-1402-4b57-a457-7a9ad3f31566",
   "metadata": {},
   "outputs": [],
   "source": []
  }
 ],
 "metadata": {
  "kernelspec": {
   "display_name": "Python 3 (ipykernel)",
   "language": "python",
   "name": "python3"
  },
  "language_info": {
   "codemirror_mode": {
    "name": "ipython",
    "version": 3
   },
   "file_extension": ".py",
   "mimetype": "text/x-python",
   "name": "python",
   "nbconvert_exporter": "python",
   "pygments_lexer": "ipython3",
   "version": "3.12.0"
  }
 },
 "nbformat": 4,
 "nbformat_minor": 5
}
