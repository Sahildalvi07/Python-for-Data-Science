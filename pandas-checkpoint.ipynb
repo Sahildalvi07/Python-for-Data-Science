{
 "cells": [
  {
   "cell_type": "code",
   "execution_count": 1,
   "id": "37f68370-aa5c-4e83-a83b-abc2fbe185bd",
   "metadata": {},
   "outputs": [],
   "source": [
    "import pandas as pd\n",
    "import numpy as np"
   ]
  },
  {
   "cell_type": "code",
   "execution_count": 4,
   "id": "f00d2f8e-2f03-4fdc-acdf-1ce7251d6d91",
   "metadata": {},
   "outputs": [],
   "source": [
    "arr= np.array([\"sun\",\"mon\",\"tue\",\"wed\",\"thr\",\"fri\",\"sat\"])"
   ]
  },
  {
   "cell_type": "code",
   "execution_count": 10,
   "id": "0c28e4f9-9f0c-4aef-8b07-a89cde97e040",
   "metadata": {},
   "outputs": [
    {
     "data": {
      "text/plain": [
       "0    sun\n",
       "1    mon\n",
       "2    tue\n",
       "3    wed\n",
       "4    thr\n",
       "5    fri\n",
       "6    sat\n",
       "Name: weekdays, dtype: object"
      ]
     },
     "execution_count": 10,
     "metadata": {},
     "output_type": "execute_result"
    }
   ],
   "source": [
    "# how to create pandas series\n",
    "\n",
    "s1 = pd.Series(arr, name = \"weekdays\")\n",
    "s1"
   ]
  },
  {
   "cell_type": "code",
   "execution_count": 11,
   "id": "cd930c96-ae8b-4646-b423-cce7fce511ad",
   "metadata": {},
   "outputs": [
    {
     "data": {
      "text/plain": [
       "'weekdays'"
      ]
     },
     "execution_count": 11,
     "metadata": {},
     "output_type": "execute_result"
    }
   ],
   "source": [
    "s1.name"
   ]
  },
  {
   "cell_type": "code",
   "execution_count": 13,
   "id": "8585f2da-5b72-41d0-8d29-bb138ca92f67",
   "metadata": {},
   "outputs": [
    {
     "data": {
      "text/plain": [
       "0    2\n",
       "1    5\n",
       "2    7\n",
       "3    4\n",
       "Name: number list, dtype: int64"
      ]
     },
     "execution_count": 13,
     "metadata": {},
     "output_type": "execute_result"
    }
   ],
   "source": [
    "s2 = pd.Series([2,5,7,4], name=\"number list\")\n",
    "s2"
   ]
  },
  {
   "cell_type": "code",
   "execution_count": 15,
   "id": "8b4eee0b-9459-43b1-a269-d891dab57ed9",
   "metadata": {},
   "outputs": [
    {
     "data": {
      "text/plain": [
       "0    1\n",
       "1    2\n",
       "2    3\n",
       "3    4\n",
       "4    5\n",
       "dtype: int64"
      ]
     },
     "execution_count": 15,
     "metadata": {},
     "output_type": "execute_result"
    }
   ],
   "source": [
    "s3 = pd.Series((1,2,3,4,5))\n",
    "s3"
   ]
  },
  {
   "cell_type": "code",
   "execution_count": null,
   "id": "d6a75207-3d31-4c95-8048-5d9d0f609059",
   "metadata": {},
   "outputs": [],
   "source": [
    "#s4 = pd.series(np.random.randint(1,26,24).reshape(6,4),name= \"random_numbers\n",
    "## we cannot create sries more than 1 dimension"
   ]
  },
  {
   "cell_type": "code",
   "execution_count": 16,
   "id": "53a96ac3-acab-4897-8fda-02335c291916",
   "metadata": {},
   "outputs": [
    {
     "data": {
      "text/plain": [
       "dtype('int64')"
      ]
     },
     "execution_count": 16,
     "metadata": {},
     "output_type": "execute_result"
    }
   ],
   "source": [
    "s3.dtype"
   ]
  },
  {
   "cell_type": "code",
   "execution_count": 19,
   "id": "0416362b-2b58-4e7a-9654-cb166e5e8efa",
   "metadata": {},
   "outputs": [
    {
     "data": {
      "text/plain": [
       "4.5"
      ]
     },
     "execution_count": 19,
     "metadata": {},
     "output_type": "execute_result"
    }
   ],
   "source": [
    "s2.mean()"
   ]
  },
  {
   "cell_type": "code",
   "execution_count": 20,
   "id": "768621d3-66c9-44a2-8f5b-b5ee4e05cd6b",
   "metadata": {},
   "outputs": [
    {
     "data": {
      "text/plain": [
       "2.0816659994661326"
      ]
     },
     "execution_count": 20,
     "metadata": {},
     "output_type": "execute_result"
    }
   ],
   "source": [
    "s2.std()"
   ]
  },
  {
   "cell_type": "code",
   "execution_count": 21,
   "id": "2bd4aee9-0560-4bcb-a592-b0242d5384dd",
   "metadata": {},
   "outputs": [
    {
     "data": {
      "text/plain": [
       "1.5811388300841898"
      ]
     },
     "execution_count": 21,
     "metadata": {},
     "output_type": "execute_result"
    }
   ],
   "source": [
    "s3.std()"
   ]
  },
  {
   "cell_type": "code",
   "execution_count": 23,
   "id": "fe88c9f9-cf12-4e76-9e52-2e1e30dedada",
   "metadata": {},
   "outputs": [
    {
     "data": {
      "text/plain": [
       "{'std_names': ['Chandu', 'nandu', 'Bandu'], 'marks': [67, 59, 46]}"
      ]
     },
     "execution_count": 23,
     "metadata": {},
     "output_type": "execute_result"
    }
   ],
   "source": [
    "d ={\n",
    "    \"std_names\":[\"Chandu\",\"nandu\",\"Bandu\"],\n",
    "    \"marks\":[67,59,46]\n",
    "}\n",
    "d"
   ]
  },
  {
   "cell_type": "code",
   "execution_count": 25,
   "id": "90690959-42e0-4cf7-a2e9-573d13bbad50",
   "metadata": {},
   "outputs": [
    {
     "data": {
      "text/html": [
       "<div>\n",
       "<style scoped>\n",
       "    .dataframe tbody tr th:only-of-type {\n",
       "        vertical-align: middle;\n",
       "    }\n",
       "\n",
       "    .dataframe tbody tr th {\n",
       "        vertical-align: top;\n",
       "    }\n",
       "\n",
       "    .dataframe thead th {\n",
       "        text-align: right;\n",
       "    }\n",
       "</style>\n",
       "<table border=\"1\" class=\"dataframe\">\n",
       "  <thead>\n",
       "    <tr style=\"text-align: right;\">\n",
       "      <th></th>\n",
       "      <th>std_names</th>\n",
       "      <th>marks</th>\n",
       "    </tr>\n",
       "  </thead>\n",
       "  <tbody>\n",
       "    <tr>\n",
       "      <th>0</th>\n",
       "      <td>Chandu</td>\n",
       "      <td>67</td>\n",
       "    </tr>\n",
       "    <tr>\n",
       "      <th>1</th>\n",
       "      <td>nandu</td>\n",
       "      <td>59</td>\n",
       "    </tr>\n",
       "    <tr>\n",
       "      <th>2</th>\n",
       "      <td>Bandu</td>\n",
       "      <td>46</td>\n",
       "    </tr>\n",
       "  </tbody>\n",
       "</table>\n",
       "</div>"
      ],
      "text/plain": [
       "  std_names  marks\n",
       "0    Chandu     67\n",
       "1     nandu     59\n",
       "2     Bandu     46"
      ]
     },
     "execution_count": 25,
     "metadata": {},
     "output_type": "execute_result"
    }
   ],
   "source": [
    "df= pd.DataFrame(d)\n",
    "df"
   ]
  },
  {
   "cell_type": "code",
   "execution_count": 26,
   "id": "2d8bcdad-9de1-437c-8b45-aa2ea6dbb45f",
   "metadata": {},
   "outputs": [
    {
     "data": {
      "text/plain": [
       "array([[76, 61, 78, 46],\n",
       "       [79, 67, 40, 39],\n",
       "       [37, 86, 35, 97],\n",
       "       [65, 74, 83, 69],\n",
       "       [77, 73, 82, 47],\n",
       "       [98, 40, 96, 64]])"
      ]
     },
     "execution_count": 26,
     "metadata": {},
     "output_type": "execute_result"
    }
   ],
   "source": [
    "arr2 = np.random.randint(35,99,24).reshape(6,4)\n",
    "arr2"
   ]
  },
  {
   "cell_type": "code",
   "execution_count": 27,
   "id": "ead51813-6521-487f-bd9c-8a1f18952d63",
   "metadata": {},
   "outputs": [
    {
     "data": {
      "text/html": [
       "<div>\n",
       "<style scoped>\n",
       "    .dataframe tbody tr th:only-of-type {\n",
       "        vertical-align: middle;\n",
       "    }\n",
       "\n",
       "    .dataframe tbody tr th {\n",
       "        vertical-align: top;\n",
       "    }\n",
       "\n",
       "    .dataframe thead th {\n",
       "        text-align: right;\n",
       "    }\n",
       "</style>\n",
       "<table border=\"1\" class=\"dataframe\">\n",
       "  <thead>\n",
       "    <tr style=\"text-align: right;\">\n",
       "      <th></th>\n",
       "      <th>0</th>\n",
       "      <th>1</th>\n",
       "      <th>2</th>\n",
       "      <th>3</th>\n",
       "    </tr>\n",
       "  </thead>\n",
       "  <tbody>\n",
       "    <tr>\n",
       "      <th>0</th>\n",
       "      <td>76</td>\n",
       "      <td>61</td>\n",
       "      <td>78</td>\n",
       "      <td>46</td>\n",
       "    </tr>\n",
       "    <tr>\n",
       "      <th>1</th>\n",
       "      <td>79</td>\n",
       "      <td>67</td>\n",
       "      <td>40</td>\n",
       "      <td>39</td>\n",
       "    </tr>\n",
       "    <tr>\n",
       "      <th>2</th>\n",
       "      <td>37</td>\n",
       "      <td>86</td>\n",
       "      <td>35</td>\n",
       "      <td>97</td>\n",
       "    </tr>\n",
       "    <tr>\n",
       "      <th>3</th>\n",
       "      <td>65</td>\n",
       "      <td>74</td>\n",
       "      <td>83</td>\n",
       "      <td>69</td>\n",
       "    </tr>\n",
       "    <tr>\n",
       "      <th>4</th>\n",
       "      <td>77</td>\n",
       "      <td>73</td>\n",
       "      <td>82</td>\n",
       "      <td>47</td>\n",
       "    </tr>\n",
       "    <tr>\n",
       "      <th>5</th>\n",
       "      <td>98</td>\n",
       "      <td>40</td>\n",
       "      <td>96</td>\n",
       "      <td>64</td>\n",
       "    </tr>\n",
       "  </tbody>\n",
       "</table>\n",
       "</div>"
      ],
      "text/plain": [
       "    0   1   2   3\n",
       "0  76  61  78  46\n",
       "1  79  67  40  39\n",
       "2  37  86  35  97\n",
       "3  65  74  83  69\n",
       "4  77  73  82  47\n",
       "5  98  40  96  64"
      ]
     },
     "execution_count": 27,
     "metadata": {},
     "output_type": "execute_result"
    }
   ],
   "source": [
    "df2 = pd.DataFrame(arr2)\n",
    "df2"
   ]
  },
  {
   "cell_type": "code",
   "execution_count": 28,
   "id": "f57e3dea-1015-4231-b448-59b6cf74b18e",
   "metadata": {},
   "outputs": [
    {
     "data": {
      "text/html": [
       "<div>\n",
       "<style scoped>\n",
       "    .dataframe tbody tr th:only-of-type {\n",
       "        vertical-align: middle;\n",
       "    }\n",
       "\n",
       "    .dataframe tbody tr th {\n",
       "        vertical-align: top;\n",
       "    }\n",
       "\n",
       "    .dataframe thead th {\n",
       "        text-align: right;\n",
       "    }\n",
       "</style>\n",
       "<table border=\"1\" class=\"dataframe\">\n",
       "  <thead>\n",
       "    <tr style=\"text-align: right;\">\n",
       "      <th></th>\n",
       "      <th>math</th>\n",
       "      <th>english</th>\n",
       "      <th>Physics</th>\n",
       "      <th>sport</th>\n",
       "    </tr>\n",
       "  </thead>\n",
       "  <tbody>\n",
       "    <tr>\n",
       "      <th>0</th>\n",
       "      <td>76</td>\n",
       "      <td>61</td>\n",
       "      <td>78</td>\n",
       "      <td>46</td>\n",
       "    </tr>\n",
       "    <tr>\n",
       "      <th>1</th>\n",
       "      <td>79</td>\n",
       "      <td>67</td>\n",
       "      <td>40</td>\n",
       "      <td>39</td>\n",
       "    </tr>\n",
       "    <tr>\n",
       "      <th>2</th>\n",
       "      <td>37</td>\n",
       "      <td>86</td>\n",
       "      <td>35</td>\n",
       "      <td>97</td>\n",
       "    </tr>\n",
       "    <tr>\n",
       "      <th>3</th>\n",
       "      <td>65</td>\n",
       "      <td>74</td>\n",
       "      <td>83</td>\n",
       "      <td>69</td>\n",
       "    </tr>\n",
       "    <tr>\n",
       "      <th>4</th>\n",
       "      <td>77</td>\n",
       "      <td>73</td>\n",
       "      <td>82</td>\n",
       "      <td>47</td>\n",
       "    </tr>\n",
       "    <tr>\n",
       "      <th>5</th>\n",
       "      <td>98</td>\n",
       "      <td>40</td>\n",
       "      <td>96</td>\n",
       "      <td>64</td>\n",
       "    </tr>\n",
       "  </tbody>\n",
       "</table>\n",
       "</div>"
      ],
      "text/plain": [
       "   math  english  Physics  sport\n",
       "0    76       61       78     46\n",
       "1    79       67       40     39\n",
       "2    37       86       35     97\n",
       "3    65       74       83     69\n",
       "4    77       73       82     47\n",
       "5    98       40       96     64"
      ]
     },
     "execution_count": 28,
     "metadata": {},
     "output_type": "execute_result"
    }
   ],
   "source": [
    "df3 = pd.DataFrame(arr2,columns=[\"math\",\"english\",\"Physics\",\"sport\"])\n",
    "df3"
   ]
  },
  {
   "cell_type": "code",
   "execution_count": 29,
   "id": "7352d823-3967-4777-bbaf-89c4279994b3",
   "metadata": {},
   "outputs": [],
   "source": [
    "df3[\"Std_Name\"]= [\"Sachin\",\"Rohit\",\"Virat\",\"shubman\",\"Ravindra\",\"Rinku\"]"
   ]
  },
  {
   "cell_type": "code",
   "execution_count": 30,
   "id": "4bcde584-067b-4ba4-8309-dda59255cef2",
   "metadata": {},
   "outputs": [
    {
     "data": {
      "text/html": [
       "<div>\n",
       "<style scoped>\n",
       "    .dataframe tbody tr th:only-of-type {\n",
       "        vertical-align: middle;\n",
       "    }\n",
       "\n",
       "    .dataframe tbody tr th {\n",
       "        vertical-align: top;\n",
       "    }\n",
       "\n",
       "    .dataframe thead th {\n",
       "        text-align: right;\n",
       "    }\n",
       "</style>\n",
       "<table border=\"1\" class=\"dataframe\">\n",
       "  <thead>\n",
       "    <tr style=\"text-align: right;\">\n",
       "      <th></th>\n",
       "      <th>math</th>\n",
       "      <th>english</th>\n",
       "      <th>Physics</th>\n",
       "      <th>sport</th>\n",
       "      <th>Std_Name</th>\n",
       "    </tr>\n",
       "  </thead>\n",
       "  <tbody>\n",
       "    <tr>\n",
       "      <th>0</th>\n",
       "      <td>76</td>\n",
       "      <td>61</td>\n",
       "      <td>78</td>\n",
       "      <td>46</td>\n",
       "      <td>Sachin</td>\n",
       "    </tr>\n",
       "    <tr>\n",
       "      <th>1</th>\n",
       "      <td>79</td>\n",
       "      <td>67</td>\n",
       "      <td>40</td>\n",
       "      <td>39</td>\n",
       "      <td>Rohit</td>\n",
       "    </tr>\n",
       "    <tr>\n",
       "      <th>2</th>\n",
       "      <td>37</td>\n",
       "      <td>86</td>\n",
       "      <td>35</td>\n",
       "      <td>97</td>\n",
       "      <td>Virat</td>\n",
       "    </tr>\n",
       "    <tr>\n",
       "      <th>3</th>\n",
       "      <td>65</td>\n",
       "      <td>74</td>\n",
       "      <td>83</td>\n",
       "      <td>69</td>\n",
       "      <td>shubman</td>\n",
       "    </tr>\n",
       "    <tr>\n",
       "      <th>4</th>\n",
       "      <td>77</td>\n",
       "      <td>73</td>\n",
       "      <td>82</td>\n",
       "      <td>47</td>\n",
       "      <td>Ravindra</td>\n",
       "    </tr>\n",
       "    <tr>\n",
       "      <th>5</th>\n",
       "      <td>98</td>\n",
       "      <td>40</td>\n",
       "      <td>96</td>\n",
       "      <td>64</td>\n",
       "      <td>Rinku</td>\n",
       "    </tr>\n",
       "  </tbody>\n",
       "</table>\n",
       "</div>"
      ],
      "text/plain": [
       "   math  english  Physics  sport  Std_Name\n",
       "0    76       61       78     46    Sachin\n",
       "1    79       67       40     39     Rohit\n",
       "2    37       86       35     97     Virat\n",
       "3    65       74       83     69   shubman\n",
       "4    77       73       82     47  Ravindra\n",
       "5    98       40       96     64     Rinku"
      ]
     },
     "execution_count": 30,
     "metadata": {},
     "output_type": "execute_result"
    }
   ],
   "source": [
    "df3"
   ]
  },
  {
   "cell_type": "code",
   "execution_count": null,
   "id": "e1ebd5c2-fa76-4574-8c98-3779f027d9a8",
   "metadata": {},
   "outputs": [],
   "source": [
    "df3.head() #to return the top 5 rows of dataframe, we can return as many rows by giving number in head()"
   ]
  },
  {
   "cell_type": "code",
   "execution_count": 31,
   "id": "e3a8b7ad-1842-444d-8ec7-9a0281ef10d6",
   "metadata": {},
   "outputs": [
    {
     "data": {
      "text/html": [
       "<div>\n",
       "<style scoped>\n",
       "    .dataframe tbody tr th:only-of-type {\n",
       "        vertical-align: middle;\n",
       "    }\n",
       "\n",
       "    .dataframe tbody tr th {\n",
       "        vertical-align: top;\n",
       "    }\n",
       "\n",
       "    .dataframe thead th {\n",
       "        text-align: right;\n",
       "    }\n",
       "</style>\n",
       "<table border=\"1\" class=\"dataframe\">\n",
       "  <thead>\n",
       "    <tr style=\"text-align: right;\">\n",
       "      <th></th>\n",
       "      <th>math</th>\n",
       "      <th>english</th>\n",
       "      <th>Physics</th>\n",
       "      <th>sport</th>\n",
       "      <th>Std_Name</th>\n",
       "    </tr>\n",
       "  </thead>\n",
       "  <tbody>\n",
       "    <tr>\n",
       "      <th>0</th>\n",
       "      <td>76</td>\n",
       "      <td>61</td>\n",
       "      <td>78</td>\n",
       "      <td>46</td>\n",
       "      <td>Sachin</td>\n",
       "    </tr>\n",
       "    <tr>\n",
       "      <th>1</th>\n",
       "      <td>79</td>\n",
       "      <td>67</td>\n",
       "      <td>40</td>\n",
       "      <td>39</td>\n",
       "      <td>Rohit</td>\n",
       "    </tr>\n",
       "  </tbody>\n",
       "</table>\n",
       "</div>"
      ],
      "text/plain": [
       "   math  english  Physics  sport Std_Name\n",
       "0    76       61       78     46   Sachin\n",
       "1    79       67       40     39    Rohit"
      ]
     },
     "execution_count": 31,
     "metadata": {},
     "output_type": "execute_result"
    }
   ],
   "source": [
    "df3.head(2)"
   ]
  },
  {
   "cell_type": "code",
   "execution_count": 33,
   "id": "7dbfd6b8-893e-48e7-98e7-0e2db63f832e",
   "metadata": {},
   "outputs": [
    {
     "data": {
      "text/html": [
       "<div>\n",
       "<style scoped>\n",
       "    .dataframe tbody tr th:only-of-type {\n",
       "        vertical-align: middle;\n",
       "    }\n",
       "\n",
       "    .dataframe tbody tr th {\n",
       "        vertical-align: top;\n",
       "    }\n",
       "\n",
       "    .dataframe thead th {\n",
       "        text-align: right;\n",
       "    }\n",
       "</style>\n",
       "<table border=\"1\" class=\"dataframe\">\n",
       "  <thead>\n",
       "    <tr style=\"text-align: right;\">\n",
       "      <th></th>\n",
       "      <th>math</th>\n",
       "      <th>english</th>\n",
       "      <th>Physics</th>\n",
       "      <th>sport</th>\n",
       "      <th>Std_Name</th>\n",
       "    </tr>\n",
       "  </thead>\n",
       "  <tbody>\n",
       "    <tr>\n",
       "      <th>3</th>\n",
       "      <td>65</td>\n",
       "      <td>74</td>\n",
       "      <td>83</td>\n",
       "      <td>69</td>\n",
       "      <td>shubman</td>\n",
       "    </tr>\n",
       "    <tr>\n",
       "      <th>4</th>\n",
       "      <td>77</td>\n",
       "      <td>73</td>\n",
       "      <td>82</td>\n",
       "      <td>47</td>\n",
       "      <td>Ravindra</td>\n",
       "    </tr>\n",
       "    <tr>\n",
       "      <th>5</th>\n",
       "      <td>98</td>\n",
       "      <td>40</td>\n",
       "      <td>96</td>\n",
       "      <td>64</td>\n",
       "      <td>Rinku</td>\n",
       "    </tr>\n",
       "  </tbody>\n",
       "</table>\n",
       "</div>"
      ],
      "text/plain": [
       "   math  english  Physics  sport  Std_Name\n",
       "3    65       74       83     69   shubman\n",
       "4    77       73       82     47  Ravindra\n",
       "5    98       40       96     64     Rinku"
      ]
     },
     "execution_count": 33,
     "metadata": {},
     "output_type": "execute_result"
    }
   ],
   "source": [
    "df3.tail(3)"
   ]
  },
  {
   "cell_type": "code",
   "execution_count": 34,
   "id": "32c712b9-8328-4eed-9465-19ff01b46827",
   "metadata": {},
   "outputs": [
    {
     "data": {
      "text/html": [
       "<div>\n",
       "<style scoped>\n",
       "    .dataframe tbody tr th:only-of-type {\n",
       "        vertical-align: middle;\n",
       "    }\n",
       "\n",
       "    .dataframe tbody tr th {\n",
       "        vertical-align: top;\n",
       "    }\n",
       "\n",
       "    .dataframe thead th {\n",
       "        text-align: right;\n",
       "    }\n",
       "</style>\n",
       "<table border=\"1\" class=\"dataframe\">\n",
       "  <thead>\n",
       "    <tr style=\"text-align: right;\">\n",
       "      <th></th>\n",
       "      <th>math</th>\n",
       "      <th>english</th>\n",
       "      <th>Physics</th>\n",
       "      <th>sport</th>\n",
       "      <th>Std_Name</th>\n",
       "    </tr>\n",
       "  </thead>\n",
       "  <tbody>\n",
       "    <tr>\n",
       "      <th>3</th>\n",
       "      <td>65</td>\n",
       "      <td>74</td>\n",
       "      <td>83</td>\n",
       "      <td>69</td>\n",
       "      <td>shubman</td>\n",
       "    </tr>\n",
       "    <tr>\n",
       "      <th>4</th>\n",
       "      <td>77</td>\n",
       "      <td>73</td>\n",
       "      <td>82</td>\n",
       "      <td>47</td>\n",
       "      <td>Ravindra</td>\n",
       "    </tr>\n",
       "  </tbody>\n",
       "</table>\n",
       "</div>"
      ],
      "text/plain": [
       "   math  english  Physics  sport  Std_Name\n",
       "3    65       74       83     69   shubman\n",
       "4    77       73       82     47  Ravindra"
      ]
     },
     "execution_count": 34,
     "metadata": {},
     "output_type": "execute_result"
    }
   ],
   "source": [
    "df3.iloc[3:5]"
   ]
  },
  {
   "cell_type": "code",
   "execution_count": 35,
   "id": "eaf93794-fbbb-45d5-91d4-77c2d4d7950d",
   "metadata": {},
   "outputs": [
    {
     "data": {
      "text/html": [
       "<div>\n",
       "<style scoped>\n",
       "    .dataframe tbody tr th:only-of-type {\n",
       "        vertical-align: middle;\n",
       "    }\n",
       "\n",
       "    .dataframe tbody tr th {\n",
       "        vertical-align: top;\n",
       "    }\n",
       "\n",
       "    .dataframe thead th {\n",
       "        text-align: right;\n",
       "    }\n",
       "</style>\n",
       "<table border=\"1\" class=\"dataframe\">\n",
       "  <thead>\n",
       "    <tr style=\"text-align: right;\">\n",
       "      <th></th>\n",
       "      <th>math</th>\n",
       "      <th>english</th>\n",
       "      <th>Physics</th>\n",
       "      <th>sport</th>\n",
       "      <th>Std_Name</th>\n",
       "    </tr>\n",
       "  </thead>\n",
       "  <tbody>\n",
       "    <tr>\n",
       "      <th>2</th>\n",
       "      <td>37</td>\n",
       "      <td>86</td>\n",
       "      <td>35</td>\n",
       "      <td>97</td>\n",
       "      <td>Virat</td>\n",
       "    </tr>\n",
       "    <tr>\n",
       "      <th>3</th>\n",
       "      <td>65</td>\n",
       "      <td>74</td>\n",
       "      <td>83</td>\n",
       "      <td>69</td>\n",
       "      <td>shubman</td>\n",
       "    </tr>\n",
       "    <tr>\n",
       "      <th>4</th>\n",
       "      <td>77</td>\n",
       "      <td>73</td>\n",
       "      <td>82</td>\n",
       "      <td>47</td>\n",
       "      <td>Ravindra</td>\n",
       "    </tr>\n",
       "  </tbody>\n",
       "</table>\n",
       "</div>"
      ],
      "text/plain": [
       "   math  english  Physics  sport  Std_Name\n",
       "2    37       86       35     97     Virat\n",
       "3    65       74       83     69   shubman\n",
       "4    77       73       82     47  Ravindra"
      ]
     },
     "execution_count": 35,
     "metadata": {},
     "output_type": "execute_result"
    }
   ],
   "source": [
    "df3.loc[2:4]"
   ]
  },
  {
   "cell_type": "code",
   "execution_count": 37,
   "id": "089cb7ce-fc54-47be-9c21-f7fa689493e5",
   "metadata": {},
   "outputs": [
    {
     "data": {
      "text/plain": [
       "0    76\n",
       "1    79\n",
       "2    37\n",
       "3    65\n",
       "4    77\n",
       "5    98\n",
       "Name: math, dtype: int32"
      ]
     },
     "execution_count": 37,
     "metadata": {},
     "output_type": "execute_result"
    }
   ],
   "source": [
    "df3[\"math\"]"
   ]
  },
  {
   "cell_type": "code",
   "execution_count": 38,
   "id": "d53dfed4-7a37-49dd-8bb8-8ab49e519e88",
   "metadata": {},
   "outputs": [
    {
     "data": {
      "text/plain": [
       "pandas.core.series.Series"
      ]
     },
     "execution_count": 38,
     "metadata": {},
     "output_type": "execute_result"
    }
   ],
   "source": [
    "type(df3[\"math\"])"
   ]
  },
  {
   "cell_type": "code",
   "execution_count": 39,
   "id": "c8c0d3fb-d35e-4fe8-a76c-4d7317678c29",
   "metadata": {},
   "outputs": [
    {
     "data": {
      "text/plain": [
       "math           79\n",
       "english        67\n",
       "Physics        40\n",
       "sport          39\n",
       "Std_Name    Rohit\n",
       "Name: 1, dtype: object"
      ]
     },
     "execution_count": 39,
     "metadata": {},
     "output_type": "execute_result"
    }
   ],
   "source": [
    "df3.iloc[1]"
   ]
  },
  {
   "cell_type": "code",
   "execution_count": 40,
   "id": "0706f3db-d6a7-4db2-88e6-6e48f78aff56",
   "metadata": {},
   "outputs": [
    {
     "data": {
      "text/plain": [
       "65.25"
      ]
     },
     "execution_count": 40,
     "metadata": {},
     "output_type": "execute_result"
    }
   ],
   "source": [
    "df2.iloc[0].mean()"
   ]
  },
  {
   "cell_type": "code",
   "execution_count": 41,
   "id": "fb18ba9f-1abd-41d1-b6f3-2790aa160ebe",
   "metadata": {},
   "outputs": [
    {
     "data": {
      "text/html": [
       "<div>\n",
       "<style scoped>\n",
       "    .dataframe tbody tr th:only-of-type {\n",
       "        vertical-align: middle;\n",
       "    }\n",
       "\n",
       "    .dataframe tbody tr th {\n",
       "        vertical-align: top;\n",
       "    }\n",
       "\n",
       "    .dataframe thead th {\n",
       "        text-align: right;\n",
       "    }\n",
       "</style>\n",
       "<table border=\"1\" class=\"dataframe\">\n",
       "  <thead>\n",
       "    <tr style=\"text-align: right;\">\n",
       "      <th></th>\n",
       "      <th>math</th>\n",
       "      <th>english</th>\n",
       "    </tr>\n",
       "  </thead>\n",
       "  <tbody>\n",
       "    <tr>\n",
       "      <th>0</th>\n",
       "      <td>76</td>\n",
       "      <td>61</td>\n",
       "    </tr>\n",
       "    <tr>\n",
       "      <th>1</th>\n",
       "      <td>79</td>\n",
       "      <td>67</td>\n",
       "    </tr>\n",
       "    <tr>\n",
       "      <th>2</th>\n",
       "      <td>37</td>\n",
       "      <td>86</td>\n",
       "    </tr>\n",
       "    <tr>\n",
       "      <th>3</th>\n",
       "      <td>65</td>\n",
       "      <td>74</td>\n",
       "    </tr>\n",
       "    <tr>\n",
       "      <th>4</th>\n",
       "      <td>77</td>\n",
       "      <td>73</td>\n",
       "    </tr>\n",
       "    <tr>\n",
       "      <th>5</th>\n",
       "      <td>98</td>\n",
       "      <td>40</td>\n",
       "    </tr>\n",
       "  </tbody>\n",
       "</table>\n",
       "</div>"
      ],
      "text/plain": [
       "   math  english\n",
       "0    76       61\n",
       "1    79       67\n",
       "2    37       86\n",
       "3    65       74\n",
       "4    77       73\n",
       "5    98       40"
      ]
     },
     "execution_count": 41,
     "metadata": {},
     "output_type": "execute_result"
    }
   ],
   "source": [
    "df3[[\"math\",\"english\"]]"
   ]
  },
  {
   "cell_type": "code",
   "execution_count": 43,
   "id": "95fbd20a-c5f9-4436-a677-be7054e8131c",
   "metadata": {},
   "outputs": [],
   "source": [
    "df3.drop(\"Std_Name\",axis=1, inplace=True)"
   ]
  },
  {
   "cell_type": "code",
   "execution_count": 44,
   "id": "ada3c7e8-65de-4cc2-9a3d-376d3e2dab8c",
   "metadata": {},
   "outputs": [
    {
     "data": {
      "text/html": [
       "<div>\n",
       "<style scoped>\n",
       "    .dataframe tbody tr th:only-of-type {\n",
       "        vertical-align: middle;\n",
       "    }\n",
       "\n",
       "    .dataframe tbody tr th {\n",
       "        vertical-align: top;\n",
       "    }\n",
       "\n",
       "    .dataframe thead th {\n",
       "        text-align: right;\n",
       "    }\n",
       "</style>\n",
       "<table border=\"1\" class=\"dataframe\">\n",
       "  <thead>\n",
       "    <tr style=\"text-align: right;\">\n",
       "      <th></th>\n",
       "      <th>math</th>\n",
       "      <th>english</th>\n",
       "      <th>Physics</th>\n",
       "      <th>sport</th>\n",
       "    </tr>\n",
       "  </thead>\n",
       "  <tbody>\n",
       "    <tr>\n",
       "      <th>0</th>\n",
       "      <td>76</td>\n",
       "      <td>61</td>\n",
       "      <td>78</td>\n",
       "      <td>46</td>\n",
       "    </tr>\n",
       "    <tr>\n",
       "      <th>1</th>\n",
       "      <td>79</td>\n",
       "      <td>67</td>\n",
       "      <td>40</td>\n",
       "      <td>39</td>\n",
       "    </tr>\n",
       "    <tr>\n",
       "      <th>2</th>\n",
       "      <td>37</td>\n",
       "      <td>86</td>\n",
       "      <td>35</td>\n",
       "      <td>97</td>\n",
       "    </tr>\n",
       "    <tr>\n",
       "      <th>3</th>\n",
       "      <td>65</td>\n",
       "      <td>74</td>\n",
       "      <td>83</td>\n",
       "      <td>69</td>\n",
       "    </tr>\n",
       "    <tr>\n",
       "      <th>4</th>\n",
       "      <td>77</td>\n",
       "      <td>73</td>\n",
       "      <td>82</td>\n",
       "      <td>47</td>\n",
       "    </tr>\n",
       "    <tr>\n",
       "      <th>5</th>\n",
       "      <td>98</td>\n",
       "      <td>40</td>\n",
       "      <td>96</td>\n",
       "      <td>64</td>\n",
       "    </tr>\n",
       "  </tbody>\n",
       "</table>\n",
       "</div>"
      ],
      "text/plain": [
       "   math  english  Physics  sport\n",
       "0    76       61       78     46\n",
       "1    79       67       40     39\n",
       "2    37       86       35     97\n",
       "3    65       74       83     69\n",
       "4    77       73       82     47\n",
       "5    98       40       96     64"
      ]
     },
     "execution_count": 44,
     "metadata": {},
     "output_type": "execute_result"
    }
   ],
   "source": [
    "df3"
   ]
  },
  {
   "cell_type": "code",
   "execution_count": null,
   "id": "287d7d1b-7c86-447d-973b-87e70cf3103c",
   "metadata": {},
   "outputs": [],
   "source": [
    "df4 = pd.read_csv(\"\")"
   ]
  },
  {
   "cell_type": "code",
   "execution_count": null,
   "id": "16dd0a38-a349-4158-ab50-2752d7e6db73",
   "metadata": {},
   "outputs": [],
   "source": [
    "df5 = pd.read_excel()"
   ]
  },
  {
   "cell_type": "code",
   "execution_count": 3,
   "id": "967b3ce9-0f52-4abf-9fc8-8c804d19b8bc",
   "metadata": {},
   "outputs": [
    {
     "data": {
      "text/plain": [
       "{'name': ['sahil', 'hrsh', 'mahi'], 'Age': [21, 20, 19], 'marks': [25, 30, 35]}"
      ]
     },
     "execution_count": 3,
     "metadata": {},
     "output_type": "execute_result"
    }
   ],
   "source": [
    "d= {\n",
    "    \"name\":[\"sahil\",\"hrsh\",\"mahi\"],\n",
    "    \"Age\":[21,20,19],\n",
    "    \"marks\":[25,30,35]\n",
    "}\n",
    "d"
   ]
  },
  {
   "cell_type": "code",
   "execution_count": 4,
   "id": "1a5ea27c-085d-4c5b-8e51-2830244cbdef",
   "metadata": {},
   "outputs": [
    {
     "data": {
      "text/html": [
       "<div>\n",
       "<style scoped>\n",
       "    .dataframe tbody tr th:only-of-type {\n",
       "        vertical-align: middle;\n",
       "    }\n",
       "\n",
       "    .dataframe tbody tr th {\n",
       "        vertical-align: top;\n",
       "    }\n",
       "\n",
       "    .dataframe thead th {\n",
       "        text-align: right;\n",
       "    }\n",
       "</style>\n",
       "<table border=\"1\" class=\"dataframe\">\n",
       "  <thead>\n",
       "    <tr style=\"text-align: right;\">\n",
       "      <th></th>\n",
       "      <th>name</th>\n",
       "      <th>Age</th>\n",
       "      <th>marks</th>\n",
       "    </tr>\n",
       "  </thead>\n",
       "  <tbody>\n",
       "    <tr>\n",
       "      <th>0</th>\n",
       "      <td>sahil</td>\n",
       "      <td>21</td>\n",
       "      <td>25</td>\n",
       "    </tr>\n",
       "    <tr>\n",
       "      <th>1</th>\n",
       "      <td>hrsh</td>\n",
       "      <td>20</td>\n",
       "      <td>30</td>\n",
       "    </tr>\n",
       "    <tr>\n",
       "      <th>2</th>\n",
       "      <td>mahi</td>\n",
       "      <td>19</td>\n",
       "      <td>35</td>\n",
       "    </tr>\n",
       "  </tbody>\n",
       "</table>\n",
       "</div>"
      ],
      "text/plain": [
       "    name  Age  marks\n",
       "0  sahil   21     25\n",
       "1   hrsh   20     30\n",
       "2   mahi   19     35"
      ]
     },
     "execution_count": 4,
     "metadata": {},
     "output_type": "execute_result"
    }
   ],
   "source": [
    "df=pd.DataFrame(d)\n",
    "df"
   ]
  },
  {
   "cell_type": "code",
   "execution_count": 5,
   "id": "88f34249-d57a-4e97-99da-4ceeef9dd9c9",
   "metadata": {},
   "outputs": [
    {
     "data": {
      "text/html": [
       "<div>\n",
       "<style scoped>\n",
       "    .dataframe tbody tr th:only-of-type {\n",
       "        vertical-align: middle;\n",
       "    }\n",
       "\n",
       "    .dataframe tbody tr th {\n",
       "        vertical-align: top;\n",
       "    }\n",
       "\n",
       "    .dataframe thead th {\n",
       "        text-align: right;\n",
       "    }\n",
       "</style>\n",
       "<table border=\"1\" class=\"dataframe\">\n",
       "  <thead>\n",
       "    <tr style=\"text-align: right;\">\n",
       "      <th></th>\n",
       "      <th>name</th>\n",
       "      <th>Age</th>\n",
       "      <th>marks</th>\n",
       "      <th>Subject</th>\n",
       "    </tr>\n",
       "  </thead>\n",
       "  <tbody>\n",
       "    <tr>\n",
       "      <th>0</th>\n",
       "      <td>sahil</td>\n",
       "      <td>21</td>\n",
       "      <td>25</td>\n",
       "      <td>math</td>\n",
       "    </tr>\n",
       "    <tr>\n",
       "      <th>1</th>\n",
       "      <td>hrsh</td>\n",
       "      <td>20</td>\n",
       "      <td>30</td>\n",
       "      <td>science</td>\n",
       "    </tr>\n",
       "    <tr>\n",
       "      <th>2</th>\n",
       "      <td>mahi</td>\n",
       "      <td>19</td>\n",
       "      <td>35</td>\n",
       "      <td>history</td>\n",
       "    </tr>\n",
       "  </tbody>\n",
       "</table>\n",
       "</div>"
      ],
      "text/plain": [
       "    name  Age  marks  Subject\n",
       "0  sahil   21     25     math\n",
       "1   hrsh   20     30  science\n",
       "2   mahi   19     35  history"
      ]
     },
     "execution_count": 5,
     "metadata": {},
     "output_type": "execute_result"
    }
   ],
   "source": [
    "df[\"Subject\"]=[\"math\",\"science\",\"history\"]\n",
    "df"
   ]
  },
  {
   "cell_type": "code",
   "execution_count": 6,
   "id": "56fcd71c-be3f-42ad-89bd-198a276dcf21",
   "metadata": {},
   "outputs": [],
   "source": [
    "new_column =[\"name\",\"marks\",\"Subject\",\"Age\"]"
   ]
  },
  {
   "cell_type": "code",
   "execution_count": 7,
   "id": "18f08518-e2c5-48ef-9b9c-219cf22343f2",
   "metadata": {},
   "outputs": [],
   "source": [
    "df=df.reindex(columns=new_column)"
   ]
  },
  {
   "cell_type": "code",
   "execution_count": 8,
   "id": "58a43b58-9c09-435f-86aa-395273eb2feb",
   "metadata": {},
   "outputs": [
    {
     "data": {
      "text/html": [
       "<div>\n",
       "<style scoped>\n",
       "    .dataframe tbody tr th:only-of-type {\n",
       "        vertical-align: middle;\n",
       "    }\n",
       "\n",
       "    .dataframe tbody tr th {\n",
       "        vertical-align: top;\n",
       "    }\n",
       "\n",
       "    .dataframe thead th {\n",
       "        text-align: right;\n",
       "    }\n",
       "</style>\n",
       "<table border=\"1\" class=\"dataframe\">\n",
       "  <thead>\n",
       "    <tr style=\"text-align: right;\">\n",
       "      <th></th>\n",
       "      <th>name</th>\n",
       "      <th>marks</th>\n",
       "      <th>Subject</th>\n",
       "      <th>Age</th>\n",
       "    </tr>\n",
       "  </thead>\n",
       "  <tbody>\n",
       "    <tr>\n",
       "      <th>0</th>\n",
       "      <td>sahil</td>\n",
       "      <td>25</td>\n",
       "      <td>math</td>\n",
       "      <td>21</td>\n",
       "    </tr>\n",
       "    <tr>\n",
       "      <th>1</th>\n",
       "      <td>hrsh</td>\n",
       "      <td>30</td>\n",
       "      <td>science</td>\n",
       "      <td>20</td>\n",
       "    </tr>\n",
       "    <tr>\n",
       "      <th>2</th>\n",
       "      <td>mahi</td>\n",
       "      <td>35</td>\n",
       "      <td>history</td>\n",
       "      <td>19</td>\n",
       "    </tr>\n",
       "  </tbody>\n",
       "</table>\n",
       "</div>"
      ],
      "text/plain": [
       "    name  marks  Subject  Age\n",
       "0  sahil     25     math   21\n",
       "1   hrsh     30  science   20\n",
       "2   mahi     35  history   19"
      ]
     },
     "execution_count": 8,
     "metadata": {},
     "output_type": "execute_result"
    }
   ],
   "source": [
    "df"
   ]
  },
  {
   "cell_type": "code",
   "execution_count": 10,
   "id": "0faa7542-2f08-4627-8402-3e73091731b3",
   "metadata": {},
   "outputs": [],
   "source": [
    "df.insert(4,\"Work\",[\"manager\",\"HOD\",\"CEO\"])"
   ]
  },
  {
   "cell_type": "code",
   "execution_count": 11,
   "id": "c3ea88d4-3cc1-4681-a3fd-88546a7a0bdd",
   "metadata": {},
   "outputs": [
    {
     "data": {
      "text/html": [
       "<div>\n",
       "<style scoped>\n",
       "    .dataframe tbody tr th:only-of-type {\n",
       "        vertical-align: middle;\n",
       "    }\n",
       "\n",
       "    .dataframe tbody tr th {\n",
       "        vertical-align: top;\n",
       "    }\n",
       "\n",
       "    .dataframe thead th {\n",
       "        text-align: right;\n",
       "    }\n",
       "</style>\n",
       "<table border=\"1\" class=\"dataframe\">\n",
       "  <thead>\n",
       "    <tr style=\"text-align: right;\">\n",
       "      <th></th>\n",
       "      <th>name</th>\n",
       "      <th>marks</th>\n",
       "      <th>Subject</th>\n",
       "      <th>Age</th>\n",
       "      <th>Work</th>\n",
       "    </tr>\n",
       "  </thead>\n",
       "  <tbody>\n",
       "    <tr>\n",
       "      <th>0</th>\n",
       "      <td>sahil</td>\n",
       "      <td>25</td>\n",
       "      <td>math</td>\n",
       "      <td>21</td>\n",
       "      <td>manager</td>\n",
       "    </tr>\n",
       "    <tr>\n",
       "      <th>1</th>\n",
       "      <td>hrsh</td>\n",
       "      <td>30</td>\n",
       "      <td>science</td>\n",
       "      <td>20</td>\n",
       "      <td>HOD</td>\n",
       "    </tr>\n",
       "    <tr>\n",
       "      <th>2</th>\n",
       "      <td>mahi</td>\n",
       "      <td>35</td>\n",
       "      <td>history</td>\n",
       "      <td>19</td>\n",
       "      <td>CEO</td>\n",
       "    </tr>\n",
       "  </tbody>\n",
       "</table>\n",
       "</div>"
      ],
      "text/plain": [
       "    name  marks  Subject  Age     Work\n",
       "0  sahil     25     math   21  manager\n",
       "1   hrsh     30  science   20      HOD\n",
       "2   mahi     35  history   19      CEO"
      ]
     },
     "execution_count": 11,
     "metadata": {},
     "output_type": "execute_result"
    }
   ],
   "source": [
    "df"
   ]
  },
  {
   "cell_type": "code",
   "execution_count": 14,
   "id": "e9027434-236c-434c-9069-72486145c859",
   "metadata": {},
   "outputs": [
    {
     "name": "stdout",
     "output_type": "stream",
     "text": [
      "[2 4]\n"
     ]
    }
   ],
   "source": [
    "arr = np.array([1,2,3,4,5])\n",
    "indices=np.array([1,3])\n",
    "result=arr[indices]\n",
    "print(result)"
   ]
  },
  {
   "cell_type": "code",
   "execution_count": null,
   "id": "d11c9fad-e174-466d-9fc3-11873b5d6bb3",
   "metadata": {},
   "outputs": [],
   "source": []
  }
 ],
 "metadata": {
  "kernelspec": {
   "display_name": "Python 3 (ipykernel)",
   "language": "python",
   "name": "python3"
  },
  "language_info": {
   "codemirror_mode": {
    "name": "ipython",
    "version": 3
   },
   "file_extension": ".py",
   "mimetype": "text/x-python",
   "name": "python",
   "nbconvert_exporter": "python",
   "pygments_lexer": "ipython3",
   "version": "3.12.0"
  }
 },
 "nbformat": 4,
 "nbformat_minor": 5
}
